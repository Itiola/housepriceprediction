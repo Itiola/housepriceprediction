{
 "cells": [
  {
   "cell_type": "code",
   "execution_count": null,
   "metadata": {
    "executionInfo": {
     "elapsed": 2,
     "status": "ok",
     "timestamp": 1699379681283,
     "user": {
      "displayName": "Babatunde Fortune Itiola",
      "userId": "04856121587441658158"
     },
     "user_tz": -60
    },
    "id": "vX6DQ_Hmt02F"
   },
   "outputs": [
    {
     "ename": "",
     "evalue": "",
     "output_type": "error",
     "traceback": [
      "\u001b[1;31mRunning cells with 'Python 3.13.5' requires the ipykernel package.\n",
      "\u001b[1;31mInstall 'ipykernel' into the Python environment. \n",
      "\u001b[1;31mCommand: 'c:/Users/itiol/AppData/Local/Programs/Python/Python313/python.exe -m pip install ipykernel -U --user --force-reinstall'"
     ]
    }
   ],
   "source": [
    "#Import all dependencies which are libraries in this case that are necessary for the execution of this project\n",
    "import pandas as pd\n",
    "import sklearn\n",
    "from sklearn.linear_model import LinearRegression\n",
    "import joblib\n",
    "from sklearn.model_selection import train_test_split\n",
    "from sklearn.metrics import mean_squared_error, r2_score\n",
    "import numpy as np\n",
    "import pickle\n",
    "\n",
    "\n"
   ]
  },
  {
   "cell_type": "code",
   "execution_count": 14,
   "metadata": {
    "executionInfo": {
     "elapsed": 2,
     "status": "ok",
     "timestamp": 1699380310993,
     "user": {
      "displayName": "Babatunde Fortune Itiola",
      "userId": "04856121587441658158"
     },
     "user_tz": -60
    },
    "id": "kgbg0nGhuEgo"
   },
   "outputs": [],
   "source": [
    "#Load the data\n",
    "data = pd.read_csv('housing.csv')"
   ]
  },
  {
   "cell_type": "code",
   "execution_count": 15,
   "metadata": {
    "executionInfo": {
     "elapsed": 701,
     "status": "ok",
     "timestamp": 1699381090583,
     "user": {
      "displayName": "Babatunde Fortune Itiola",
      "userId": "04856121587441658158"
     },
     "user_tz": -60
    },
    "id": "CtHcM8n2zdGZ"
   },
   "outputs": [],
   "source": [
    "# Convert the csv data into a dataframe\",\n",
    "df = pd.DataFrame(data)"
   ]
  },
  {
   "cell_type": "code",
   "execution_count": null,
   "metadata": {
    "executionInfo": {
     "elapsed": 1,
     "status": "ok",
     "timestamp": 1699381092661,
     "user": {
      "displayName": "Babatunde Fortune Itiola",
      "userId": "04856121587441658158"
     },
     "user_tz": -60
    },
    "id": "nidVKwcIzyGp"
   },
   "outputs": [],
   "source": [
    "#Split the data into features (X) and target variable (y), the independent and dependent variables\"\n",
    "X = df[['area']]\n",
    "y = df['price']"
   ]
  },
  {
   "cell_type": "code",
   "execution_count": 17,
   "metadata": {
    "executionInfo": {
     "elapsed": 2,
     "status": "ok",
     "timestamp": 1699381094466,
     "user": {
      "displayName": "Babatunde Fortune Itiola",
      "userId": "04856121587441658158"
     },
     "user_tz": -60
    },
    "id": "wbnfIRug0J4t"
   },
   "outputs": [],
   "source": [
    "#Split dataset into train and test sets\n",
    "X_train, X_test, y_train, y_test = train_test_split(X, y, test_size=0.2, random_state=42)"
   ]
  },
  {
   "cell_type": "code",
   "execution_count": null,
   "metadata": {
    "id": "LltTbl2J0zwO"
   },
   "outputs": [],
   "source": [
    "#Create and train the linear regression model\n",
    "model = LinearRegression()\n",
    "model.fit(X_train, y_train)"
   ]
  },
  {
   "cell_type": "code",
   "execution_count": 19,
   "metadata": {
    "colab": {
     "base_uri": "https://localhost:8080/"
    },
    "executionInfo": {
     "elapsed": 481,
     "status": "ok",
     "timestamp": 1699381102798,
     "user": {
      "displayName": "Babatunde Fortune Itiola",
      "userId": "04856121587441658158"
     },
     "user_tz": -60
    },
    "id": "h5S3CsrE9TX9",
    "outputId": "93e0521f-b0b8-4966-9558-714b0e4a1f24"
   },
   "outputs": [
    {
     "name": "stdout",
     "output_type": "stream",
     "text": [
      "Predicted price: [5671169.69114511]\n"
     ]
    },
    {
     "name": "stderr",
     "output_type": "stream",
     "text": [
      "/usr/local/lib/python3.10/dist-packages/sklearn/base.py:465: UserWarning: X does not have valid feature names, but LinearRegression was fitted with feature names\n",
      "  warnings.warn(\n"
     ]
    }
   ],
   "source": [
    "# Get the area of the house for which you want to make a prediction\n",
    "area = 7420\n",
    "\n",
    "# Make a prediction\n",
    "predicted_price = model.predict(np.array([[area]]))\n",
    "\n",
    "# Print the predicted price\n",
    "print('Predicted price:', predicted_price)\n"
   ]
  },
  {
   "cell_type": "code",
   "execution_count": null,
   "metadata": {
    "colab": {
     "base_uri": "https://localhost:8080/"
    },
    "executionInfo": {
     "elapsed": 405,
     "status": "ok",
     "timestamp": 1699270765386,
     "user": {
      "displayName": "Babatunde Fortune Itiola",
      "userId": "04856121587441658158"
     },
     "user_tz": -60
    },
    "id": "PWjktIlL1W3D",
    "outputId": "f26060e3-40e8-44ea-c71f-ab5566a679cd"
   },
   "outputs": [
    {
     "data": {
      "text/plain": [
       "['homeprice.pkl']"
      ]
     },
     "execution_count": 12,
     "metadata": {},
     "output_type": "execute_result"
    }
   ],
   "source": [
    "#Save the model to disk\\n\",\n",
    "joblib.dump(model, 'homeprice.pkl')\n",
    "\n",
    "# Save the model\\n\",\n",
    "#model.save(\\\"model.pkl\\\")\\n\""
   ]
  },
  {
   "cell_type": "code",
   "execution_count": 8,
   "metadata": {
    "executionInfo": {
     "elapsed": 468,
     "status": "ok",
     "timestamp": 1699375710325,
     "user": {
      "displayName": "Babatunde Fortune Itiola",
      "userId": "04856121587441658158"
     },
     "user_tz": -60
    },
    "id": "pj-5rVb-15F6"
   },
   "outputs": [],
   "source": [
    "#Load the model from disk\n",
    "loaded_model = joblib.load('homeprice.pkl')\n",
    "\n"
   ]
  },
  {
   "cell_type": "code",
   "execution_count": null,
   "metadata": {
    "colab": {
     "base_uri": "https://localhost:8080/"
    },
    "executionInfo": {
     "elapsed": 430,
     "status": "ok",
     "timestamp": 1699270848867,
     "user": {
      "displayName": "Babatunde Fortune Itiola",
      "userId": "04856121587441658158"
     },
     "user_tz": -60
    },
    "id": "9o2ikap-TNIv",
    "outputId": "fc02fd2d-c3d2-4d05-fddc-b80e4550c766"
   },
   "outputs": [
    {
     "name": "stdout",
     "output_type": "stream",
     "text": [
      "MSE: 3675286604768.185\n",
      "R-squared: 0.27287851871974644\n"
     ]
    }
   ],
   "source": [
    "# Make predictions on the test dataset\n",
    "y_pred = model.predict(X_test)\n",
    "\n",
    "# Calculate the MSE and R-squared\n",
    "mse = mean_squared_error(y_test, y_pred)\n",
    "r2_score = r2_score(y_test, y_pred)\n",
    "\n",
    "# Print the MSE and R-squared\n",
    "print('MSE:', mse)\n",
    "print('R-squared:', r2_score)"
   ]
  }
 ],
 "metadata": {
  "colab": {
   "authorship_tag": "ABX9TyPcN8L9nSlk/6HwGeNrfQJo",
   "provenance": []
  },
  "kernelspec": {
   "display_name": "Python 3",
   "name": "python3"
  },
  "language_info": {
   "name": "python",
   "version": "3.13.5"
  }
 },
 "nbformat": 4,
 "nbformat_minor": 0
}
